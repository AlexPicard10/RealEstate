{
 "cells": [
  {
   "cell_type": "markdown",
   "id": "68744f63-fcc9-4759-9996-f7768fa62305",
   "metadata": {},
   "source": [
    "# Realestate Rental ROI Prediction - Loading Dataset using Snowpark Python\n"
   ]
  },
  {
   "cell_type": "markdown",
   "id": "3baa542d-92f7-4a79-a8ea-be189bda306a",
   "metadata": {},
   "source": [
    "## Loading Real Estates Ads into Snowflake\n",
    "\n",
    "### Import the dependencies and connect to Snowflake"
   ]
  },
  {
   "cell_type": "code",
   "execution_count": 1,
   "id": "731d3ad3-48ce-498a-83e4-9efb780e5a46",
   "metadata": {},
   "outputs": [
    {
     "data": {
      "text/plain": [
       "'0.12.0'"
      ]
     },
     "execution_count": 1,
     "metadata": {},
     "output_type": "execute_result"
    }
   ],
   "source": [
    "# Snowpark\n",
    "# Print the version of Snowpark we are using\n",
    "from importlib.metadata import version\n",
    "\n",
    "from snowflake.snowpark import Session\n",
    "from snowflake.snowpark.functions import *\n",
    "from snowflake.snowpark.types import *\n",
    "\n",
    "version(\"snowflake_snowpark_python\")"
   ]
  },
  {
   "cell_type": "code",
   "execution_count": 2,
   "id": "eaa30546-cda7-4528-8690-82a1897ec79e",
   "metadata": {},
   "outputs": [],
   "source": [
    "# Other\n",
    "import json"
   ]
  },
  {
   "cell_type": "markdown",
   "id": "787c6f32-d170-48b4-bee1-be476d1d5db1",
   "metadata": {},
   "source": [
    "**Before connecting make sure you have updated creds.json with information for your Snowflake account**"
   ]
  },
  {
   "cell_type": "code",
   "execution_count": 3,
   "id": "c140283a-60eb-4215-945b-50ffb8ba7b92",
   "metadata": {},
   "outputs": [],
   "source": [
    "with open(\"creds.json\") as f:\n",
    "    connection_parameters = json.load(f)"
   ]
  },
  {
   "cell_type": "code",
   "execution_count": 4,
   "id": "04cbfa0d-8505-46a4-b4ab-602814c12d53",
   "metadata": {},
   "outputs": [],
   "source": [
    "session = Session.builder.configs(connection_parameters).create()"
   ]
  },
  {
   "cell_type": "markdown",
   "id": "f77f0055-4a93-4baa-873a-edf5f0135f9f",
   "metadata": {},
   "source": [
    "The **get_** functions can be use to get information about the current database, schema, role etc"
   ]
  },
  {
   "cell_type": "code",
   "execution_count": 5,
   "id": "6f6005c7-cd91-49c9-8324-c3230a867140",
   "metadata": {},
   "outputs": [
    {
     "name": "stdout",
     "output_type": "stream",
     "text": [
      "Current schema: \"SNOWPARKDEMO_DB\".\"PUBLIC\", current role: \"SNOWPARKDEMO_ROLE\", current warehouse:  \"SNOWPARKDEMO_WH\"\n"
     ]
    }
   ],
   "source": [
    "print(\n",
    "    f\"Current schema: {session.get_fully_qualified_current_schema()}, current role: {session.get_current_role()}, current warehouse:  {session.get_current_warehouse()}\"\n",
    ")"
   ]
  },
  {
   "cell_type": "markdown",
   "id": "04cdd2e3-27bb-4a8a-9bdd-011759cc7882",
   "metadata": {},
   "source": [
    "### Define Staging Area and the Schema for the transaction table\n",
    "\n",
    "Using SQL we can create a internal stage and then use the **put** function to uplad the **realestatesads.csv.gz** file to it."
   ]
  },
  {
   "cell_type": "code",
   "execution_count": 6,
   "id": "998ff299-6597-4a9d-a034-09c57472a478",
   "metadata": {},
   "outputs": [
    {
     "data": {
      "text/plain": [
       "[Row(name='s3://realestatefrance/CSV/realestatesads.csv.gz', size=577459423, md5='655fd3cf27a155eeef6f24193c5e7f73', last_modified='Thu, 12 Jan 2023 14:42:31 GMT'),\n",
       " Row(name='s3://realestatefrance/CSVCOMPRESSS/2012/data_01a99a39-3201-7ece-0000-8f7d01e78a82_115_1_0.csv.gz', size=296, md5='f183c1ac62c1815686ffe5841b060669', last_modified='Thu, 12 Jan 2023 15:22:38 GMT'),\n",
       " Row(name='s3://realestatefrance/CSVCOMPRESSS/2013/data_01a99a39-3201-7ece-0000-8f7d01e78a82_115_6_0.csv.gz', size=240, md5='bccae3c36151b9d862850f33f067f99f', last_modified='Thu, 12 Jan 2023 15:22:38 GMT'),\n",
       " Row(name='s3://realestatefrance/CSVCOMPRESSS/2014/data_01a99a39-3201-7ece-0000-8f7d01e78a82_415_4_0.csv.gz', size=3719, md5='5ec87adc64551c08d0c2e1555d26f558', last_modified='Thu, 12 Jan 2023 15:22:38 GMT'),\n",
       " Row(name='s3://realestatefrance/CSVCOMPRESSS/2015/data_01a99a39-3201-7ece-0000-8f7d01e78a82_015_3_0.csv.gz', size=23507, md5='46ff0e2d597ad51a59a9eff31fcc619b', last_modified='Thu, 12 Jan 2023 15:22:38 GMT'),\n",
       " Row(name='s3://realestatefrance/CSVCOMPRESSS/2016/data_01a99a39-3201-7ece-0000-8f7d01e78a82_015_3_0.csv.gz', size=120958, md5='10a9f57072a845867a5ea14e9aab9468', last_modified='Thu, 12 Jan 2023 15:22:38 GMT'),\n",
       " Row(name='s3://realestatefrance/CSVCOMPRESSS/2017/data_01a99a39-3201-7ece-0000-8f7d01e78a82_615_0_0.csv.gz', size=444329, md5='0cb8d04ad3755c4a5f1bd07364b5848a', last_modified='Thu, 12 Jan 2023 15:22:38 GMT'),\n",
       " Row(name='s3://realestatefrance/CSVCOMPRESSS/2018/data_01a99a39-3201-7ece-0000-8f7d01e78a82_015_3_0.csv.gz', size=4462850, md5='b46869670a71b9cd2189106d26abba3d', last_modified='Thu, 12 Jan 2023 15:22:38 GMT'),\n",
       " Row(name='s3://realestatefrance/CSVCOMPRESSS/2019/data_01a99a39-3201-7ece-0000-8f7d01e78a82_315_7_0.csv.gz', size=146944449, md5='949f6ec60547123abbf706ed6689417a', last_modified='Thu, 12 Jan 2023 15:22:38 GMT'),\n",
       " Row(name='s3://realestatefrance/CSVCOMPRESSS/2020/data_01a99a39-3201-7ece-0000-8f7d01e78a82_215_3_0.csv.gz', size=236751557, md5='8b6a25d8c47eaa378d9902406f085030', last_modified='Thu, 12 Jan 2023 15:22:38 GMT'),\n",
       " Row(name='s3://realestatefrance/CSVCOMPRESSS/2021/data_01a99a39-3201-7ece-0000-8f7d01e78a82_515_0_0.csv.gz', size=176848210, md5='3ae99a30a3dfea61db4ca3f640a4496b', last_modified='Thu, 12 Jan 2023 15:22:38 GMT'),\n",
       " Row(name='s3://realestatefrance/CSVCOMPRESSS/2022/data_01a99a39-3201-7ece-0000-8f7d01e78a82_515_5_0.csv.gz', size=112902637, md5='9d0abbeff5e8a39b93d4623acace848d', last_modified='Thu, 12 Jan 2023 15:22:38 GMT'),\n",
       " Row(name='s3://realestatefrance/CSVCOMPRESSS/2023/data_01a99a39-3201-7ece-0000-8f7d01e78a82_315_7_0.csv.gz', size=5420026, md5='65129e46dbf5d0cf1f967707f580c43d', last_modified='Thu, 12 Jan 2023 15:22:38 GMT'),\n",
       " Row(name='s3://realestatefrance/CSVSplit/realestatesads.csv_0_0_0.csv.gz', size=10470835, md5='a9de6e96257f76deb946f04e46d06dea', last_modified='Thu, 12 Jan 2023 14:59:06 GMT'),\n",
       " Row(name='s3://realestatefrance/CSVSplit/realestatesads.csv_0_1_0.csv.gz', size=10243704, md5='16c30b884c379b294663900e0e0e23f3', last_modified='Thu, 12 Jan 2023 14:59:06 GMT'),\n",
       " Row(name='s3://realestatefrance/CSVSplit/realestatesads.csv_0_2_0.csv.gz', size=10004676, md5='dbb6d47eb005403c8adfba2cbafeeef2', last_modified='Thu, 12 Jan 2023 14:59:06 GMT'),\n",
       " Row(name='s3://realestatefrance/CSVSplit/realestatesads.csv_0_3_0.csv.gz', size=10558819, md5='0b50facbb29d25e7aa8f51ca8da562f3', last_modified='Thu, 12 Jan 2023 14:59:06 GMT'),\n",
       " Row(name='s3://realestatefrance/CSVSplit/realestatesads.csv_0_4_0.csv.gz', size=10283730, md5='df16351d3a746312c0c86702816e5b9e', last_modified='Thu, 12 Jan 2023 14:59:06 GMT'),\n",
       " Row(name='s3://realestatefrance/CSVSplit/realestatesads.csv_0_5_0.csv.gz', size=10687832, md5='141b7747e72ae796a0f59e50f1ffc6c9', last_modified='Thu, 12 Jan 2023 14:59:06 GMT'),\n",
       " Row(name='s3://realestatefrance/CSVSplit/realestatesads.csv_0_6_0.csv.gz', size=9922036, md5='2663819bd2f70d92094987aef50a10fc', last_modified='Thu, 12 Jan 2023 14:59:06 GMT'),\n",
       " Row(name='s3://realestatefrance/CSVSplit/realestatesads.csv_0_7_0.csv.gz', size=10371790, md5='fb25129d1688b22d63808efcea419716', last_modified='Thu, 12 Jan 2023 14:59:06 GMT'),\n",
       " Row(name='s3://realestatefrance/CSVSplit/realestatesads.csv_1_0_0.csv.gz', size=10183131, md5='c3c4cd5215d01d5e0bf022b9aff786e5', last_modified='Thu, 12 Jan 2023 14:59:06 GMT'),\n",
       " Row(name='s3://realestatefrance/CSVSplit/realestatesads.csv_1_1_0.csv.gz', size=10644537, md5='680bc495d88458e05a77981b4cec70cb', last_modified='Thu, 12 Jan 2023 14:59:06 GMT'),\n",
       " Row(name='s3://realestatefrance/CSVSplit/realestatesads.csv_1_2_0.csv.gz', size=10389711, md5='6647ef99ba7b92bf43424a860f248ec8', last_modified='Thu, 12 Jan 2023 14:59:06 GMT'),\n",
       " Row(name='s3://realestatefrance/CSVSplit/realestatesads.csv_1_3_0.csv.gz', size=10661309, md5='dbf306554d38f8337f98df9c3ea8ba19', last_modified='Thu, 12 Jan 2023 14:59:06 GMT'),\n",
       " Row(name='s3://realestatefrance/CSVSplit/realestatesads.csv_1_4_0.csv.gz', size=10377215, md5='82bcb1c9c7b4d0af341622d4d6efcc49', last_modified='Thu, 12 Jan 2023 14:59:06 GMT'),\n",
       " Row(name='s3://realestatefrance/CSVSplit/realestatesads.csv_1_5_0.csv.gz', size=10103607, md5='1b056c63f915a2f4e4a180a1d99bfb6c', last_modified='Thu, 12 Jan 2023 14:59:06 GMT'),\n",
       " Row(name='s3://realestatefrance/CSVSplit/realestatesads.csv_1_6_0.csv.gz', size=10646149, md5='6b5b9d7b99aadaca3200877a25267344', last_modified='Thu, 12 Jan 2023 14:59:06 GMT'),\n",
       " Row(name='s3://realestatefrance/CSVSplit/realestatesads.csv_1_7_0.csv.gz', size=10582498, md5='fc2ae5cc6f6a9f2a6ab5f30574fa5f5c', last_modified='Thu, 12 Jan 2023 14:59:06 GMT'),\n",
       " Row(name='s3://realestatefrance/CSVSplit/realestatesads.csv_2_0_0.csv.gz', size=10666698, md5='1527a181d8292dd8fedc65f0455fe56d', last_modified='Thu, 12 Jan 2023 14:59:06 GMT'),\n",
       " Row(name='s3://realestatefrance/CSVSplit/realestatesads.csv_2_1_0.csv.gz', size=10960951, md5='0d8c8477d4bfcd249ed2e3c6c1f7250b', last_modified='Thu, 12 Jan 2023 14:59:06 GMT'),\n",
       " Row(name='s3://realestatefrance/CSVSplit/realestatesads.csv_2_2_0.csv.gz', size=10083744, md5='846b762b9c197f33a9a58453c0a67e5c', last_modified='Thu, 12 Jan 2023 14:59:06 GMT'),\n",
       " Row(name='s3://realestatefrance/CSVSplit/realestatesads.csv_2_3_0.csv.gz', size=10318601, md5='fef6d82a5350e554c6a5027ff1f40fa2', last_modified='Thu, 12 Jan 2023 14:59:06 GMT'),\n",
       " Row(name='s3://realestatefrance/CSVSplit/realestatesads.csv_2_4_0.csv.gz', size=10494047, md5='b3754b1b332af44bac9105b88af9ad35', last_modified='Thu, 12 Jan 2023 14:59:06 GMT'),\n",
       " Row(name='s3://realestatefrance/CSVSplit/realestatesads.csv_2_5_0.csv.gz', size=10440200, md5='6e262ad23e2fceacf07eb2478a40b942', last_modified='Thu, 12 Jan 2023 14:59:06 GMT'),\n",
       " Row(name='s3://realestatefrance/CSVSplit/realestatesads.csv_2_6_0.csv.gz', size=8635202, md5='da4ad14d6536f1667e9fbdf9d73d5df3', last_modified='Thu, 12 Jan 2023 14:59:06 GMT'),\n",
       " Row(name='s3://realestatefrance/CSVSplit/realestatesads.csv_2_7_0.csv.gz', size=9415397, md5='82a21777db5398105f3eef6e8ea27a90', last_modified='Thu, 12 Jan 2023 14:59:06 GMT'),\n",
       " Row(name='s3://realestatefrance/CSVSplit/realestatesads.csv_3_0_0.csv.gz', size=9216310, md5='d05daa80fb7e78d416882c9a398e66e1', last_modified='Thu, 12 Jan 2023 14:59:06 GMT'),\n",
       " Row(name='s3://realestatefrance/CSVSplit/realestatesads.csv_3_1_0.csv.gz', size=8467388, md5='bd39a54ad00c211ec76e351c6355c059', last_modified='Thu, 12 Jan 2023 14:59:06 GMT'),\n",
       " Row(name='s3://realestatefrance/CSVSplit/realestatesads.csv_3_2_0.csv.gz', size=7913048, md5='5e749c14abc0ceedb811d8aa9e356b32', last_modified='Thu, 12 Jan 2023 14:59:06 GMT'),\n",
       " Row(name='s3://realestatefrance/CSVSplit/realestatesads.csv_3_3_0.csv.gz', size=8254585, md5='5ccd8f5ae0fb1984e721c5fe04032cf4', last_modified='Thu, 12 Jan 2023 14:59:06 GMT'),\n",
       " Row(name='s3://realestatefrance/CSVSplit/realestatesads.csv_3_4_0.csv.gz', size=6967165, md5='1731aeeb35da2611d739da26e2d1f6d8', last_modified='Thu, 12 Jan 2023 14:59:06 GMT'),\n",
       " Row(name='s3://realestatefrance/CSVSplit/realestatesads.csv_3_5_0.csv.gz', size=8946823, md5='f289f0981c21c24ff42e132b73849bf9', last_modified='Thu, 12 Jan 2023 14:59:06 GMT'),\n",
       " Row(name='s3://realestatefrance/CSVSplit/realestatesads.csv_3_6_0.csv.gz', size=8874856, md5='8abcda803de5884d75aa4c71289dde17', last_modified='Thu, 12 Jan 2023 14:59:06 GMT'),\n",
       " Row(name='s3://realestatefrance/CSVSplit/realestatesads.csv_3_7_0.csv.gz', size=8065766, md5='08e49a09964d545102e7c9aad2fa3aff', last_modified='Thu, 12 Jan 2023 14:59:06 GMT'),\n",
       " Row(name='s3://realestatefrance/CSVSplit/realestatesads.csv_4_0_0.csv.gz', size=8546924, md5='267e796198ab235bfd809592cf442824', last_modified='Thu, 12 Jan 2023 14:59:06 GMT'),\n",
       " Row(name='s3://realestatefrance/CSVSplit/realestatesads.csv_4_1_0.csv.gz', size=8507238, md5='a7c59dd5db1d66a3e420add71e9cdf1d', last_modified='Thu, 12 Jan 2023 14:59:06 GMT'),\n",
       " Row(name='s3://realestatefrance/CSVSplit/realestatesads.csv_4_2_0.csv.gz', size=8332539, md5='ae664770cfa6e104cb10044805ec5315', last_modified='Thu, 12 Jan 2023 14:59:06 GMT'),\n",
       " Row(name='s3://realestatefrance/CSVSplit/realestatesads.csv_4_3_0.csv.gz', size=8145574, md5='f0cf7f513854c5aa149825598b602fa9', last_modified='Thu, 12 Jan 2023 14:59:06 GMT'),\n",
       " Row(name='s3://realestatefrance/CSVSplit/realestatesads.csv_4_4_0.csv.gz', size=7787389, md5='a045fa343b5c5dd64366e023145a389e', last_modified='Thu, 12 Jan 2023 14:59:06 GMT'),\n",
       " Row(name='s3://realestatefrance/CSVSplit/realestatesads.csv_4_5_0.csv.gz', size=7262401, md5='fdaa034d987bdd5a3722c58dc8867c0b', last_modified='Thu, 12 Jan 2023 14:59:06 GMT'),\n",
       " Row(name='s3://realestatefrance/CSVSplit/realestatesads.csv_4_6_0.csv.gz', size=8117987, md5='b8f87fc3b50a30d47dcf5e1239d1ed77', last_modified='Thu, 12 Jan 2023 14:59:06 GMT'),\n",
       " Row(name='s3://realestatefrance/CSVSplit/realestatesads.csv_4_7_0.csv.gz', size=8647953, md5='490444672ceeb566d484e4ded0b6a1bb', last_modified='Thu, 12 Jan 2023 14:59:06 GMT'),\n",
       " Row(name='s3://realestatefrance/CSVSplit/realestatesads.csv_5_0_0.csv.gz', size=8305060, md5='c53c432c1d58cee3ebf8953df648e653', last_modified='Thu, 12 Jan 2023 14:59:06 GMT'),\n",
       " Row(name='s3://realestatefrance/CSVSplit/realestatesads.csv_5_1_0.csv.gz', size=7194224, md5='f469bd90be6b0f9231492d8051856f7f', last_modified='Thu, 12 Jan 2023 14:59:06 GMT'),\n",
       " Row(name='s3://realestatefrance/CSVSplit/realestatesads.csv_5_2_0.csv.gz', size=7751663, md5='8b7d6123ab35edb1112f0c4c1fa1ab9a', last_modified='Thu, 12 Jan 2023 14:59:06 GMT'),\n",
       " Row(name='s3://realestatefrance/CSVSplit/realestatesads.csv_5_3_0.csv.gz', size=7860275, md5='f5aacb940db22530261bdc9042582580', last_modified='Thu, 12 Jan 2023 14:59:06 GMT'),\n",
       " Row(name='s3://realestatefrance/CSVSplit/realestatesads.csv_5_4_0.csv.gz', size=8790694, md5='3ceaf2375958745eba54e77b316404af', last_modified='Thu, 12 Jan 2023 14:59:06 GMT'),\n",
       " Row(name='s3://realestatefrance/CSVSplit/realestatesads.csv_5_5_0.csv.gz', size=8677640, md5='cfc7f61842cbc6e1bfada3a6b5c9ee62', last_modified='Thu, 12 Jan 2023 14:59:06 GMT'),\n",
       " Row(name='s3://realestatefrance/CSVSplit/realestatesads.csv_5_6_0.csv.gz', size=8205733, md5='96b4eca214f7b81c760aeab39655fe7f', last_modified='Thu, 12 Jan 2023 14:59:06 GMT'),\n",
       " Row(name='s3://realestatefrance/CSVSplit/realestatesads.csv_5_7_0.csv.gz', size=7899999, md5='21053ef732bb50edada03f5de6177e7b', last_modified='Thu, 12 Jan 2023 14:59:06 GMT'),\n",
       " Row(name='s3://realestatefrance/CSVSplit/realestatesads.csv_6_0_0.csv.gz', size=8783485, md5='26ca1ac8175088c9e8dddb30dbb56167', last_modified='Thu, 12 Jan 2023 14:59:06 GMT'),\n",
       " Row(name='s3://realestatefrance/CSVSplit/realestatesads.csv_6_1_0.csv.gz', size=9071963, md5='dcf86df9eb2526953e3dd00e11bb6e88', last_modified='Thu, 12 Jan 2023 14:59:06 GMT'),\n",
       " Row(name='s3://realestatefrance/CSVSplit/realestatesads.csv_6_2_0.csv.gz', size=8756783, md5='28611713088087922bfab16fc6dfedaf', last_modified='Thu, 12 Jan 2023 14:59:06 GMT'),\n",
       " Row(name='s3://realestatefrance/CSVSplit/realestatesads.csv_6_3_0.csv.gz', size=8341274, md5='c2cc1adec1a1bab13c52f26c8eb11790', last_modified='Thu, 12 Jan 2023 14:59:06 GMT'),\n",
       " Row(name='s3://realestatefrance/CSVSplit/realestatesads.csv_6_4_0.csv.gz', size=8680816, md5='9c30deb99a66ca397be89a7462936e61', last_modified='Thu, 12 Jan 2023 14:59:06 GMT'),\n",
       " Row(name='s3://realestatefrance/CSVSplit/realestatesads.csv_6_5_0.csv.gz', size=9045202, md5='9b53135df14a17e77212397c49ef5361', last_modified='Thu, 12 Jan 2023 14:59:06 GMT'),\n",
       " Row(name='s3://realestatefrance/CSVSplit/realestatesads.csv_6_6_0.csv.gz', size=7682692, md5='a724ea2de56e336c67dabcb1e410da43', last_modified='Thu, 12 Jan 2023 14:59:06 GMT'),\n",
       " Row(name='s3://realestatefrance/CSVSplit/realestatesads.csv_6_7_0.csv.gz', size=8095484, md5='4b16d5431debc02d111c5205724d1b9d', last_modified='Thu, 12 Jan 2023 14:59:06 GMT'),\n",
       " Row(name='s3://realestatefrance/CSVSplit/realestatesads.csv_7_0_0.csv.gz', size=7789794, md5='fad6192189285b5321e3e89c78551ed8', last_modified='Thu, 12 Jan 2023 14:59:06 GMT'),\n",
       " Row(name='s3://realestatefrance/CSVSplit/realestatesads.csv_7_1_0.csv.gz', size=8469306, md5='c8ba1da627b75aa1960500bef9a65248', last_modified='Thu, 12 Jan 2023 14:59:06 GMT'),\n",
       " Row(name='s3://realestatefrance/CSVSplit/realestatesads.csv_7_2_0.csv.gz', size=8707066, md5='62316151ef4197a0771d336a1c7fe780', last_modified='Thu, 12 Jan 2023 14:59:06 GMT'),\n",
       " Row(name='s3://realestatefrance/CSVSplit/realestatesads.csv_7_3_0.csv.gz', size=7463791, md5='526511fa0b09986ae48c2451ec1ca3f4', last_modified='Thu, 12 Jan 2023 14:59:06 GMT'),\n",
       " Row(name='s3://realestatefrance/CSVSplit/realestatesads.csv_7_4_0.csv.gz', size=7532815, md5='b4d1b5756719a9cd5aa156cef363a37d', last_modified='Thu, 12 Jan 2023 14:59:06 GMT'),\n",
       " Row(name='s3://realestatefrance/CSVSplit/realestatesads.csv_7_5_0.csv.gz', size=8586764, md5='f1f1b0a7f9158bf8b1f78ad0cde6cc85', last_modified='Thu, 12 Jan 2023 14:59:06 GMT'),\n",
       " Row(name='s3://realestatefrance/CSVSplit/realestatesads.csv_7_6_0.csv.gz', size=8178822, md5='020966f78b1ab784c39d07b27bc6e5bb', last_modified='Thu, 12 Jan 2023 14:59:06 GMT'),\n",
       " Row(name='s3://realestatefrance/CSVSplit/realestatesads.csv_7_7_0.csv.gz', size=8426387, md5='87440047886d2673a483c5e405d2413c', last_modified='Thu, 12 Jan 2023 14:59:06 GMT'),\n",
       " Row(name='s3://realestatefrance/CSVUNCOMPRESSS/2012/data_01a99a30-3201-7ece-0000-8f7d01e78a16_115_1_0.csv', size=552, md5='cbc1b053f5c3a23a88582ad7703b6924', last_modified='Thu, 12 Jan 2023 15:12:47 GMT'),\n",
       " Row(name='s3://realestatefrance/CSVUNCOMPRESSS/2013/data_01a99a30-3201-7ece-0000-8f7d01e78a16_115_6_0.csv', size=488, md5='191c5f4a52bcd93e2cd7380355a2fbdd', last_modified='Thu, 12 Jan 2023 15:12:47 GMT'),\n",
       " Row(name='s3://realestatefrance/CSVUNCOMPRESSS/2014/data_01a99a30-3201-7ece-0000-8f7d01e78a16_415_4_0.csv', size=14311, md5='041ef7aec0bc35db06e2af816099c313', last_modified='Thu, 12 Jan 2023 15:12:47 GMT'),\n",
       " Row(name='s3://realestatefrance/CSVUNCOMPRESSS/2015/data_01a99a30-3201-7ece-0000-8f7d01e78a16_015_3_0.csv', size=107689, md5='3de1f5b9cd6babc22d027dc8de6772ee', last_modified='Thu, 12 Jan 2023 15:12:47 GMT'),\n",
       " Row(name='s3://realestatefrance/CSVUNCOMPRESSS/2016/data_01a99a30-3201-7ece-0000-8f7d01e78a16_015_3_0.csv', size=642148, md5='63daee9cd31242178c0367cb90d3c33d', last_modified='Thu, 12 Jan 2023 15:12:47 GMT'),\n",
       " Row(name='s3://realestatefrance/CSVUNCOMPRESSS/2017/data_01a99a30-3201-7ece-0000-8f7d01e78a16_615_0_0.csv', size=2982997, md5='17a2b85830d7a764a81a88416af9fb98', last_modified='Thu, 12 Jan 2023 15:12:47 GMT'),\n",
       " Row(name='s3://realestatefrance/CSVUNCOMPRESSS/2018/data_01a99a30-3201-7ece-0000-8f7d01e78a16_015_3_0.csv', size=42926068, md5='27f75c9618912e130d765a45831dfc6e', last_modified='Thu, 12 Jan 2023 15:12:47 GMT'),\n",
       " Row(name='s3://realestatefrance/CSVUNCOMPRESSS/2019/data_01a99a30-3201-7ece-0000-8f7d01e78a16_315_7_0.csv', size=1565203799, md5='d6ac6b1f71b7c5f8e8d9f9b8a4f874d6', last_modified='Thu, 12 Jan 2023 15:12:47 GMT'),\n",
       " Row(name='s3://realestatefrance/CSVUNCOMPRESSS/2020/data_01a99a30-3201-7ece-0000-8f7d01e78a16_215_3_0.csv', size=2299436342, md5='97f915f1924290059dacca8da43570d6', last_modified='Thu, 12 Jan 2023 15:12:47 GMT'),\n",
       " Row(name='s3://realestatefrance/CSVUNCOMPRESSS/2021/data_01a99a30-3201-7ece-0000-8f7d01e78a16_515_0_0.csv', size=1806933780, md5='27d3270285b34def3db1cc80ae78eea1', last_modified='Thu, 12 Jan 2023 15:12:47 GMT'),\n",
       " Row(name='s3://realestatefrance/CSVUNCOMPRESSS/2022/data_01a99a30-3201-7ece-0000-8f7d01e78a16_515_5_0.csv', size=1083029510, md5='a8c69af0a98f061f76a44845ab670a9a', last_modified='Thu, 12 Jan 2023 15:12:47 GMT'),\n",
       " Row(name='s3://realestatefrance/CSVUNCOMPRESSS/2023/data_01a99a30-3201-7ece-0000-8f7d01e78a16_315_7_0.csv', size=42279325, md5='38d2c88567f26c6fd03907719352a1e6', last_modified='Thu, 12 Jan 2023 15:13:08 GMT')]"
      ]
     },
     "execution_count": 6,
     "metadata": {},
     "output_type": "execute_result"
    }
   ],
   "source": [
    "stage_name = \"S3_SNOW_REALESTATEFR\"\n",
    "\n",
    "# Create a internal staging area for uploading the source file\n",
    "#session.sql(f\"CREATE or replace STAGE {stage_name}\").collect()\n",
    "\n",
    "# Upload the source file to the stage\n",
    "#putResult = session.file.put(\n",
    "#    \"data/realestatesads.csv.gz\", f\"@{stage_name}\", auto_compress=False\n",
    "#)\n",
    "\n",
    "#putResult\n",
    "\n",
    "session.sql(f\"ls @{stage_name}/CSV\").collect()"
   ]
  },
  {
   "cell_type": "markdown",
   "id": "87476649-9e5b-4907-be64-2dcaea28a6b8",
   "metadata": {},
   "source": [
    "Define the schma for our **ADS** table"
   ]
  },
  {
   "cell_type": "code",
   "execution_count": 7,
   "id": "a372c7ee-62e1-4b77-a923-efb4d840d512",
   "metadata": {},
   "outputs": [],
   "source": [
    "# Define the schema for the ADS table\n",
    "df_ADS_Schema = StructType(\n",
    "    [\n",
    "        StructField(\"ADS_ID\", IntegerType()),\n",
    "        StructField(\"ADS_CATEGORY_NAME\", StringType()),\n",
    "        StructField(\"ADS_FIRST_PUBLICATION_DATE\", DateType()),\n",
    "        StructField(\"ADS_SUBJECT\", StringType()),\n",
    "        StructField(\"ADS_PRICE\", IntegerType()),\n",
    "        StructField(\"ADS_OPT_URGENT\", BooleanType()),\n",
    "        StructField(\"ADS_OWNER_TYPE\", StringType()),\n",
    "        StructField(\"ADS_ATTR_REAL_ESTATE_TYPE\", StringType()),\n",
    "        StructField(\"ADS_ATTR_ROOMS\", IntegerType()),\n",
    "        StructField(\"ADS_ATTR_SQUARE\", IntegerType()),\n",
    "        StructField(\"ADS_ATTR_GES\", StringType()),\n",
    "        StructField(\"ADS_ATTR_ENERGY_RATE\", StringType()),\n",
    "        StructField(\"ADS_ATTR_FURNISHED\", StringType()),\n",
    "        StructField(\"ADS_GEO_LAT\", FloatType()),\n",
    "        StructField(\"ADS_GEO_LNG\", FloatType()),\n",
    "        StructField(\"ADS_GEO_CITY_LAT\", FloatType()),\n",
    "        StructField(\"ADS_GEO_CITY_LNG\", FloatType()),\n",
    "        StructField(\"ADS_GEO_CITY\", StringType()),\n",
    "        StructField(\"ADS_GEO_ZIPCODE\", StringType()),\n",
    "        StructField(\"ADS_GEO_REGION\", StringType()),\n",
    "        StructField(\"ADS_GEO_DEPARTEMENT\", StringType()),\n",
    "        StructField(\"ADS_GEO_ARRONDISSEMENT\", StringType()),\n",
    "        StructField(\"ADS_GEO_ARRONDISSEMENT_LAT\", FloatType()),\n",
    "        StructField(\"ADS_GEO_ARRONDISSEMENT_LNG\", FloatType()),\n",
    "    ]\n",
    ")\n",
    "\n",
    "# Crete a reader\n",
    "df_Reader = session.read.schema(df_ADS_Schema)\n"
   ]
  },
  {
   "cell_type": "markdown",
   "id": "a7ae5a4d-9058-4428-aa27-328dfbf2bd68",
   "metadata": {},
   "source": [
    "Load the **realestatesads.csv.gz** to a DataFrame reader and save into a table"
   ]
  },
  {
   "cell_type": "code",
   "execution_count": 8,
   "id": "e6f41f96",
   "metadata": {},
   "outputs": [],
   "source": [
    "# Get the data into the data frame\n",
    "df_ADS = df_Reader.csv(\"@S3_SNOW_REALESTATEFR/CSVUNCOMPRESSS\")\n",
    "# Write the dataframe in a table\n",
    "ret = df_ADS.write.mode(\"overwrite\").saveAsTable(\"ANNONCES_IMMOBILIERES_CSVUNCOMPRESSS\")\n",
    "ret"
   ]
  },
  {
   "cell_type": "code",
   "execution_count": 9,
   "id": "d2a1dade-44be-497a-82e7-ace3c2462966",
   "metadata": {},
   "outputs": [],
   "source": [
    "# Get the data into the data frame\n",
    "df_ADS = df_Reader.csv(\"@S3_SNOW_REALESTATEFR/CSVCOMPRESSS\")\n",
    "# Write the dataframe in a table\n",
    "ret = df_ADS.write.mode(\"overwrite\").saveAsTable(\"ANNONCES_IMMOBILIERES_CSVCOMPRESS\")\n",
    "ret"
   ]
  },
  {
   "cell_type": "code",
   "execution_count": 10,
   "id": "358c8a6f-4e05-4a82-bde5-3695c701f8af",
   "metadata": {},
   "outputs": [],
   "source": [
    "# Get the data into the data frame\n",
    "df_ADS = df_Reader.csv(\"@S3_SNOW_REALESTATEFR/CSVSplit/*.csv.gz\")\n",
    "# Write the dataframe in a table\n",
    "ret = df_ADS.write.mode(\"overwrite\").saveAsTable(\"ANNONCES_IMMOBILIERES_CSVSPLIT\")\n",
    "ret"
   ]
  },
  {
   "cell_type": "markdown",
   "id": "13cb8693",
   "metadata": {},
   "source": [
    "Chek the result"
   ]
  },
  {
   "cell_type": "code",
   "execution_count": null,
   "id": "c84f9482-1aab-4f12-b1b7-70ddbec418a2",
   "metadata": {},
   "outputs": [],
   "source": []
  }
 ],
 "metadata": {
  "kernelspec": {
   "display_name": "Python 3 (ipykernel)",
   "language": "python",
   "name": "python3"
  },
  "language_info": {
   "codemirror_mode": {
    "name": "ipython",
    "version": 3
   },
   "file_extension": ".py",
   "mimetype": "text/x-python",
   "name": "python",
   "nbconvert_exporter": "python",
   "pygments_lexer": "ipython3",
   "version": "3.8.13"
  }
 },
 "nbformat": 4,
 "nbformat_minor": 5
}
